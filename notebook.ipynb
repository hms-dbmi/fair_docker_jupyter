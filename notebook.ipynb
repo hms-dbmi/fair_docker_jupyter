{
 "cells": [
  {
   "cell_type": "markdown",
   "metadata": {},
   "source": [
    "# Statistical analysis on NHANES data collected between 1999 and 2006"
   ]
  },
  {
   "cell_type": "markdown",
   "metadata": {},
   "source": [
    "Before starting the process, let's have a look to the **software environment** :"
   ]
  },
  {
   "cell_type": "code",
   "execution_count": 1,
   "metadata": {},
   "outputs": [
    {
     "data": {
      "text/plain": [
       "R version 3.4.1 (2017-06-30)\n",
       "Platform: x86_64-pc-linux-gnu (64-bit)\n",
       "Running under: Ubuntu 18.04 LTS\n",
       "\n",
       "Matrix products: default\n",
       "BLAS: /opt/conda/lib/R/lib/libRblas.so\n",
       "LAPACK: /opt/conda/lib/R/lib/libRlapack.so\n",
       "\n",
       "locale:\n",
       " [1] LC_CTYPE=en_US.UTF-8       LC_NUMERIC=C              \n",
       " [3] LC_TIME=en_US.UTF-8        LC_COLLATE=en_US.UTF-8    \n",
       " [5] LC_MONETARY=en_US.UTF-8    LC_MESSAGES=en_US.UTF-8   \n",
       " [7] LC_PAPER=en_US.UTF-8       LC_NAME=C                 \n",
       " [9] LC_ADDRESS=C               LC_TELEPHONE=C            \n",
       "[11] LC_MEASUREMENT=en_US.UTF-8 LC_IDENTIFICATION=C       \n",
       "\n",
       "attached base packages:\n",
       "[1] stats     graphics  grDevices utils     datasets  methods   base     \n",
       "\n",
       "loaded via a namespace (and not attached):\n",
       " [1] compiler_3.4.1  magrittr_1.5    IRdisplay_0.4.4 pbdZMQ_0.3-2   \n",
       " [5] tools_3.4.1     htmltools_0.3.6 base64enc_0.1-3 crayon_1.3.4   \n",
       " [9] Rcpp_0.12.18    uuid_0.1-2      stringi_1.2.4   IRkernel_0.8.12\n",
       "[13] jsonlite_1.5    stringr_1.3.1   digest_0.6.16   repr_0.15.0    \n",
       "[17] evaluate_0.10.1"
      ]
     },
     "metadata": {},
     "output_type": "display_data"
    }
   ],
   "source": [
    "sessionInfo()"
   ]
  },
  {
   "cell_type": "markdown",
   "metadata": {},
   "source": [
    "We can see that the `R version` in the Jupyter notebook is `3.4.1` and the OS is `Ubuntu 18.04 LTS`. The `Jupyter notebook version` not displayed in the output is `5.6.0`. These elements might be important if a user tries to re-create the exact software-environment. Also for each library that will be loaded, the versions will be specified for the same reason."
   ]
  },
  {
   "cell_type": "markdown",
   "metadata": {},
   "source": [
    "# The present notebook is divided in six parts :\n",
    "### 1. Connect to the MRAN repository and load the packages \n",
    "### 2. Dataset provenance\n",
    "### 3. Load the data from the local `nhanes_extracted` file\n",
    "### 4. Data management\n",
    "### 5. Descriptive statistics\n",
    "### 6. Hypothesis testing "
   ]
  },
  {
   "cell_type": "markdown",
   "metadata": {},
   "source": [
    "Assuming you are currently using either Jupyter or mybinder and want to reproduce the workflow, you need to erase all the cells outputs and then execute the code again. In order to so, click on Kernel > Restart & clear output. Then you can execute the code by selecting a cell and clicking on the run button (or by using the appropriate shortcut mentioned in the Help section). You can interact with the code and edit it all along the notebook.\n",
    "\n",
    "_More information on how to use Jupyter at http://jupyter.org/documentation_"
   ]
  },
  {
   "cell_type": "markdown",
   "metadata": {},
   "source": [
    "# 1) Connect to the M.R.A.N repository and load the packages "
   ]
  },
  {
   "cell_type": "markdown",
   "metadata": {},
   "source": [
    "C.R.A.N (Comprehensive R Archive Network) is a package repository of the programming language R. Packages tend to get many updates over time and M.R.A.N (Microsoft R Application Network) enables to retrieve packages with 'frozen' versions corresponding to a specific date (in our illustration the date is set to 2018-09-14). MRAN basically consists of daily snapshots of CRAN. Extracting versions of different packages set on a specific date facilitates consistency between packages and therefore reproducibility. More information on : https://cran.r-project.org/ and https://mran.microsoft.com/ .\n",
    "\n",
    "The line of code below sets the repository to MRAN instead of the default CRAN. (_When executing the notebook on mybinder it is facultative to run the next cell since the `runtime.txt` file in the Github repository already specifies it_)"
   ]
  },
  {
   "cell_type": "code",
   "execution_count": 2,
   "metadata": {},
   "outputs": [],
   "source": [
    "options(repos = c(CRAN = \"https://mran.revolutionanalytics.com/snapshot/2018-09-14\"))"
   ]
  },
  {
   "cell_type": "markdown",
   "metadata": {},
   "source": [
    "We can check with the line of code below that the repository used to install packages is correctly set to MRAN. You should get a URL that contains 'mran' and the date mentioned above."
   ]
  },
  {
   "cell_type": "code",
   "execution_count": 3,
   "metadata": {},
   "outputs": [
    {
     "data": {
      "text/html": [
       "<strong>CRAN:</strong> 'https://mran.revolutionanalytics.com/snapshot/2018-09-14'"
      ],
      "text/latex": [
       "\\textbf{CRAN:} 'https://mran.revolutionanalytics.com/snapshot/2018-09-14'"
      ],
      "text/markdown": [
       "**CRAN:** 'https://mran.revolutionanalytics.com/snapshot/2018-09-14'"
      ],
      "text/plain": [
       "                                                      CRAN \n",
       "\"https://mran.revolutionanalytics.com/snapshot/2018-09-14\" "
      ]
     },
     "metadata": {},
     "output_type": "display_data"
    }
   ],
   "source": [
    "getOption(\"repos\")"
   ]
  },
  {
   "cell_type": "markdown",
   "metadata": {},
   "source": [
    "If running the notebook in Mybinder,there is no need to execute the `install.packages()` function since the installation of every packages is already done by the `install.R` file from the Github repository (except the `Rcupcake` package which is requiring the `install_github()`function). However, we did mention the line of code necessary for the installation of packages after the `#` symbol in case of using a local Jupyter notebook."
   ]
  },
  {
   "cell_type": "markdown",
   "metadata": {},
   "source": [
    "### dplyr package "
   ]
  },
  {
   "cell_type": "code",
   "execution_count": 4,
   "metadata": {},
   "outputs": [
    {
     "name": "stderr",
     "output_type": "stream",
     "text": [
      "\n",
      "Attaching package: ‘dplyr’\n",
      "\n",
      "The following objects are masked from ‘package:stats’:\n",
      "\n",
      "    filter, lag\n",
      "\n",
      "The following objects are masked from ‘package:base’:\n",
      "\n",
      "    intersect, setdiff, setequal, union\n",
      "\n"
     ]
    },
    {
     "data": {
      "text/plain": [
       "[1] ‘0.7.6’"
      ]
     },
     "metadata": {},
     "output_type": "display_data"
    }
   ],
   "source": [
    "#install.packages(\"dplyr\")\n",
    "library(dplyr)\n",
    "packageVersion(\"dplyr\")"
   ]
  },
  {
   "cell_type": "markdown",
   "metadata": {},
   "source": [
    "### prettyR package "
   ]
  },
  {
   "cell_type": "code",
   "execution_count": 5,
   "metadata": {},
   "outputs": [
    {
     "data": {
      "text/plain": [
       "[1] ‘2.2’"
      ]
     },
     "metadata": {},
     "output_type": "display_data"
    }
   ],
   "source": [
    "#install.packages(\"prettyR\")\n",
    "library(prettyR)\n",
    "packageVersion(\"prettyR\")"
   ]
  },
  {
   "cell_type": "markdown",
   "metadata": {},
   "source": [
    "# 2) Dataset provenance"
   ]
  },
  {
   "cell_type": "markdown",
   "metadata": {},
   "source": [
    "The `NHANES_extracted.csv` which is published in the same repository, is NHANES data collected between 1999 and 2006 with only the seven variables of interest for this work (female, male, age, BMI, waist circumference and sugar-free diet). It was extracted from the NHANES dataset (`MainTable.csv file`) archived in dryad digital repository at http://dx.doi.org/10.5061/dryad.d5h62. This large dataset containing data collected between 1999 and 2006, was reassembled by the PIC-SURE team from CDC NHANES files (https://www.cdc.gov/nchs/nhanes/index.htm) to form what is called the 'NHANES unified dataset'.\n",
    "\n",
    "This second section describes how we extracted the dataset (`NHANES_extracted.csv`) which we will be working on. \n",
    "\n",
    "**The extraction process itself is voluntary displayed in 'markdown cell' meaning that it is not executable because we do not provide the whole dataset in the Github repository. However you are free to reproduce the whole steps after downloading the starting point dataset if needed.**\n",
    "\n",
    "_For more information on NHANES unified dataset, see the article 'A database of human exposomes and phenomes from the US National Health and Nutrition Examination Survey' on https://www.nature.com/articles/sdata201696_"
   ]
  },
  {
   "cell_type": "markdown",
   "metadata": {},
   "source": [
    "### a) Load the whole dataset in the object `nhanes_dataset`"
   ]
  },
  {
   "cell_type": "markdown",
   "metadata": {},
   "source": [
    "nhanes_dataset <- read.table(\"MainTable.csv\", sep=\",\", header = TRUE)"
   ]
  },
  {
   "cell_type": "markdown",
   "metadata": {},
   "source": [
    "### b) Create a smaller dataset with only the variables of interest : `nhanes_extracted`"
   ]
  },
  {
   "cell_type": "markdown",
   "metadata": {},
   "source": [
    "nhanes_extracted <- nhanes_dataset %>% select('SEQN', 'female', 'male', 'RIDAGEYR', 'BMXBMI', 'BMXWAIST', 'DRDSDT4')"
   ]
  },
  {
   "cell_type": "markdown",
   "metadata": {},
   "source": [
    "### c) Save the dataset in `NHANES_extracted.csv` file"
   ]
  },
  {
   "cell_type": "markdown",
   "metadata": {},
   "source": [
    "write.csv(nhanes_extracted, file = \"NHANES_extracted.csv\")"
   ]
  },
  {
   "cell_type": "markdown",
   "metadata": {},
   "source": [
    "# 3) Load the data from the local `nhanes_extracted` file"
   ]
  },
  {
   "cell_type": "markdown",
   "metadata": {},
   "source": [
    "Make sure the `nhanes_extracted.csv` file is in the directory you are working in, and execute the following line of code :"
   ]
  },
  {
   "cell_type": "code",
   "execution_count": 6,
   "metadata": {},
   "outputs": [],
   "source": [
    "nhanes_extracted <- read.csv(\"NHANES_extracted.csv\")"
   ]
  },
  {
   "cell_type": "markdown",
   "metadata": {},
   "source": [
    "Here's a view of the six first rows of `nhanes_extracted` :"
   ]
  },
  {
   "cell_type": "code",
   "execution_count": 7,
   "metadata": {},
   "outputs": [
    {
     "data": {
      "text/html": [
       "<table>\n",
       "<thead><tr><th scope=col>X</th><th scope=col>SEQN</th><th scope=col>female</th><th scope=col>male</th><th scope=col>RIDAGEYR</th><th scope=col>BMXBMI</th><th scope=col>BMXWAIST</th><th scope=col>DRDSDT4</th></tr></thead>\n",
       "<tbody>\n",
       "\t<tr><td>1    </td><td>1    </td><td>1    </td><td>0    </td><td> 2   </td><td>14.90</td><td>45.7 </td><td>NA   </td></tr>\n",
       "\t<tr><td>2    </td><td>2    </td><td>0    </td><td>1    </td><td>77   </td><td>24.90</td><td>98.0 </td><td>NA   </td></tr>\n",
       "\t<tr><td>3    </td><td>3    </td><td>1    </td><td>0    </td><td>10   </td><td>17.63</td><td>64.7 </td><td>NA   </td></tr>\n",
       "\t<tr><td>4    </td><td>4    </td><td>0    </td><td>1    </td><td> 1   </td><td>   NA</td><td>  NA </td><td>NA   </td></tr>\n",
       "\t<tr><td>5    </td><td>5    </td><td>0    </td><td>1    </td><td>49   </td><td>29.10</td><td>99.9 </td><td>NA   </td></tr>\n",
       "\t<tr><td>6    </td><td>6    </td><td>1    </td><td>0    </td><td>19   </td><td>22.56</td><td>81.6 </td><td>NA   </td></tr>\n",
       "</tbody>\n",
       "</table>\n"
      ],
      "text/latex": [
       "\\begin{tabular}{r|llllllll}\n",
       " X & SEQN & female & male & RIDAGEYR & BMXBMI & BMXWAIST & DRDSDT4\\\\\n",
       "\\hline\n",
       "\t 1     & 1     & 1     & 0     &  2    & 14.90 & 45.7  & NA   \\\\\n",
       "\t 2     & 2     & 0     & 1     & 77    & 24.90 & 98.0  & NA   \\\\\n",
       "\t 3     & 3     & 1     & 0     & 10    & 17.63 & 64.7  & NA   \\\\\n",
       "\t 4     & 4     & 0     & 1     &  1    &    NA &   NA  & NA   \\\\\n",
       "\t 5     & 5     & 0     & 1     & 49    & 29.10 & 99.9  & NA   \\\\\n",
       "\t 6     & 6     & 1     & 0     & 19    & 22.56 & 81.6  & NA   \\\\\n",
       "\\end{tabular}\n"
      ],
      "text/markdown": [
       "\n",
       "X | SEQN | female | male | RIDAGEYR | BMXBMI | BMXWAIST | DRDSDT4 | \n",
       "|---|---|---|---|---|---|\n",
       "| 1     | 1     | 1     | 0     |  2    | 14.90 | 45.7  | NA    | \n",
       "| 2     | 2     | 0     | 1     | 77    | 24.90 | 98.0  | NA    | \n",
       "| 3     | 3     | 1     | 0     | 10    | 17.63 | 64.7  | NA    | \n",
       "| 4     | 4     | 0     | 1     |  1    |    NA |   NA  | NA    | \n",
       "| 5     | 5     | 0     | 1     | 49    | 29.10 | 99.9  | NA    | \n",
       "| 6     | 6     | 1     | 0     | 19    | 22.56 | 81.6  | NA    | \n",
       "\n",
       "\n"
      ],
      "text/plain": [
       "  X SEQN female male RIDAGEYR BMXBMI BMXWAIST DRDSDT4\n",
       "1 1 1    1      0     2       14.90  45.7     NA     \n",
       "2 2 2    0      1    77       24.90  98.0     NA     \n",
       "3 3 3    1      0    10       17.63  64.7     NA     \n",
       "4 4 4    0      1     1          NA    NA     NA     \n",
       "5 5 5    0      1    49       29.10  99.9     NA     \n",
       "6 6 6    1      0    19       22.56  81.6     NA     "
      ]
     },
     "metadata": {},
     "output_type": "display_data"
    }
   ],
   "source": [
    "head(nhanes_extracted)"
   ]
  },
  {
   "cell_type": "markdown",
   "metadata": {},
   "source": [
    "`X` and `SEQN` being redundant, we can delete the `X` column :"
   ]
  },
  {
   "cell_type": "code",
   "execution_count": 8,
   "metadata": {},
   "outputs": [],
   "source": [
    "nhanes_extracted <- nhanes_extracted[-1]"
   ]
  },
  {
   "cell_type": "markdown",
   "metadata": {},
   "source": [
    "# 4) Data management"
   ]
  },
  {
   "cell_type": "markdown",
   "metadata": {},
   "source": [
    "### a) Basic quick overview of variables structure"
   ]
  },
  {
   "cell_type": "code",
   "execution_count": 9,
   "metadata": {},
   "outputs": [
    {
     "name": "stdout",
     "output_type": "stream",
     "text": [
      "Observations: 41,474\n",
      "Variables: 7\n",
      "$ SEQN     <int> 1, 2, 3, 4, 5, 6, 7, 8, 9, 10, 11, 12, 13, 14, 15, 16, 17,...\n",
      "$ female   <int> 1, 0, 1, 0, 0, 1, 1, 0, 1, 0, 0, 0, 0, 0, 1, 1, 0, 1, 0, 1...\n",
      "$ male     <int> 0, 1, 0, 1, 1, 0, 0, 1, 0, 1, 1, 1, 1, 1, 0, 0, 1, 0, 1, 0...\n",
      "$ RIDAGEYR <int> 2, 77, 10, 1, 49, 19, 59, 13, 11, 43, 15, 37, 70, 81, 38, ...\n",
      "$ BMXBMI   <dbl> 14.90, 24.90, 17.63, NA, 29.10, 22.56, 29.39, 15.51, 18.48...\n",
      "$ BMXWAIST <dbl> 45.7, 98.0, 64.7, NA, 99.9, 81.6, 90.7, 64.1, 64.6, 108.0,...\n",
      "$ DRDSDT4  <int> NA, NA, NA, NA, NA, NA, NA, NA, NA, NA, NA, NA, NA, NA, NA...\n"
     ]
    }
   ],
   "source": [
    "glimpse(nhanes_extracted)"
   ]
  },
  {
   "cell_type": "markdown",
   "metadata": {},
   "source": [
    "We can notice that there are two variables for the sex variable (`female` and `male`) and some variables names are not intuitive. Also the variable adressing the sugar-fee diet `DRDSDT4` (yes or no) is considered as integer instead of categorical. We will then modify these in the next steps."
   ]
  },
  {
   "cell_type": "markdown",
   "metadata": {},
   "source": [
    "### b) Modify variables names to make it more understandable"
   ]
  },
  {
   "cell_type": "markdown",
   "metadata": {},
   "source": [
    "_Variables correspondence are findable in the dryad digital repository mentioned in section 2 and in cdc.gov website (https://www.cdc.gov/nchs/nhanes/index.htm)._"
   ]
  },
  {
   "cell_type": "code",
   "execution_count": 10,
   "metadata": {},
   "outputs": [
    {
     "data": {
      "text/html": [
       "<table>\n",
       "<thead><tr><th scope=col>index</th><th scope=col>female</th><th scope=col>male</th><th scope=col>age</th><th scope=col>body_mass_index</th><th scope=col>waist_circumference</th><th scope=col>sugarfree_diet</th></tr></thead>\n",
       "<tbody>\n",
       "\t<tr><td>1    </td><td>1    </td><td>0    </td><td> 2   </td><td>14.90</td><td>45.7 </td><td>NA   </td></tr>\n",
       "\t<tr><td>2    </td><td>0    </td><td>1    </td><td>77   </td><td>24.90</td><td>98.0 </td><td>NA   </td></tr>\n",
       "\t<tr><td>3    </td><td>1    </td><td>0    </td><td>10   </td><td>17.63</td><td>64.7 </td><td>NA   </td></tr>\n",
       "\t<tr><td>4    </td><td>0    </td><td>1    </td><td> 1   </td><td>   NA</td><td>  NA </td><td>NA   </td></tr>\n",
       "\t<tr><td>5    </td><td>0    </td><td>1    </td><td>49   </td><td>29.10</td><td>99.9 </td><td>NA   </td></tr>\n",
       "\t<tr><td>6    </td><td>1    </td><td>0    </td><td>19   </td><td>22.56</td><td>81.6 </td><td>NA   </td></tr>\n",
       "</tbody>\n",
       "</table>\n"
      ],
      "text/latex": [
       "\\begin{tabular}{r|lllllll}\n",
       " index & female & male & age & body\\_mass\\_index & waist\\_circumference & sugarfree\\_diet\\\\\n",
       "\\hline\n",
       "\t 1     & 1     & 0     &  2    & 14.90 & 45.7  & NA   \\\\\n",
       "\t 2     & 0     & 1     & 77    & 24.90 & 98.0  & NA   \\\\\n",
       "\t 3     & 1     & 0     & 10    & 17.63 & 64.7  & NA   \\\\\n",
       "\t 4     & 0     & 1     &  1    &    NA &   NA  & NA   \\\\\n",
       "\t 5     & 0     & 1     & 49    & 29.10 & 99.9  & NA   \\\\\n",
       "\t 6     & 1     & 0     & 19    & 22.56 & 81.6  & NA   \\\\\n",
       "\\end{tabular}\n"
      ],
      "text/markdown": [
       "\n",
       "index | female | male | age | body_mass_index | waist_circumference | sugarfree_diet | \n",
       "|---|---|---|---|---|---|\n",
       "| 1     | 1     | 0     |  2    | 14.90 | 45.7  | NA    | \n",
       "| 2     | 0     | 1     | 77    | 24.90 | 98.0  | NA    | \n",
       "| 3     | 1     | 0     | 10    | 17.63 | 64.7  | NA    | \n",
       "| 4     | 0     | 1     |  1    |    NA |   NA  | NA    | \n",
       "| 5     | 0     | 1     | 49    | 29.10 | 99.9  | NA    | \n",
       "| 6     | 1     | 0     | 19    | 22.56 | 81.6  | NA    | \n",
       "\n",
       "\n"
      ],
      "text/plain": [
       "  index female male age body_mass_index waist_circumference sugarfree_diet\n",
       "1 1     1      0     2  14.90           45.7                NA            \n",
       "2 2     0      1    77  24.90           98.0                NA            \n",
       "3 3     1      0    10  17.63           64.7                NA            \n",
       "4 4     0      1     1     NA             NA                NA            \n",
       "5 5     0      1    49  29.10           99.9                NA            \n",
       "6 6     1      0    19  22.56           81.6                NA            "
      ]
     },
     "metadata": {},
     "output_type": "display_data"
    }
   ],
   "source": [
    "variables <- c('index', 'female', 'male', 'age', 'body_mass_index', 'waist_circumference', 'sugarfree_diet' )\n",
    "\n",
    "names(nhanes_extracted) <- variables\n",
    "\n",
    "head(nhanes_extracted)"
   ]
  },
  {
   "cell_type": "markdown",
   "metadata": {},
   "source": [
    "### c) Transform the variable `sugarfree_diet` into a categorical variable and label it"
   ]
  },
  {
   "cell_type": "code",
   "execution_count": 11,
   "metadata": {},
   "outputs": [],
   "source": [
    "nhanes_extracted$sugarfree_diet <- factor(nhanes_extracted$sugarfree_diet, levels=c('0','1'), labels=c('No','Yes'))"
   ]
  },
  {
   "cell_type": "markdown",
   "metadata": {},
   "source": [
    "###  d)  Create one categorical variable `sex`"
   ]
  },
  {
   "cell_type": "markdown",
   "metadata": {},
   "source": [
    "First let's check that `female` and `male` are mutually exclusive as expected:"
   ]
  },
  {
   "cell_type": "code",
   "execution_count": 12,
   "metadata": {},
   "outputs": [
    {
     "data": {
      "text/plain": [
       "                       nhanes_extracted$male\n",
       "nhanes_extracted$female     0     1  <NA>\n",
       "                   0        0 20264     0\n",
       "                   1    21210     0     0\n",
       "                   <NA>     0     0     0"
      ]
     },
     "metadata": {},
     "output_type": "display_data"
    }
   ],
   "source": [
    "table(nhanes_extracted$female, nhanes_extracted$male, deparse.level = 2, useNA = 'always')"
   ]
  },
  {
   "cell_type": "markdown",
   "metadata": {},
   "source": [
    "Now let's creat a single categorical variable `sex` :"
   ]
  },
  {
   "cell_type": "code",
   "execution_count": 13,
   "metadata": {},
   "outputs": [],
   "source": [
    "nhanes_extracted <- nhanes_extracted %>% mutate(sex = ifelse(female == 1, \"female\", \"male\")) %>% select(-c('female', 'male'))"
   ]
  },
  {
   "cell_type": "code",
   "execution_count": 14,
   "metadata": {},
   "outputs": [],
   "source": [
    "nhanes_extracted$sex <- as.factor(nhanes_extracted$sex)"
   ]
  },
  {
   "cell_type": "markdown",
   "metadata": {},
   "source": [
    "# 5) Descriptive statistics"
   ]
  },
  {
   "cell_type": "markdown",
   "metadata": {},
   "source": [
    "Here's a view of the six first rows of `nhanes_extracted` now that we have modified the variables:"
   ]
  },
  {
   "cell_type": "code",
   "execution_count": 15,
   "metadata": {},
   "outputs": [
    {
     "data": {
      "text/html": [
       "<table>\n",
       "<thead><tr><th scope=col>index</th><th scope=col>age</th><th scope=col>body_mass_index</th><th scope=col>waist_circumference</th><th scope=col>sugarfree_diet</th><th scope=col>sex</th></tr></thead>\n",
       "<tbody>\n",
       "\t<tr><td>1     </td><td> 2    </td><td>14.90 </td><td>45.7  </td><td>NA    </td><td>female</td></tr>\n",
       "\t<tr><td>2     </td><td>77    </td><td>24.90 </td><td>98.0  </td><td>NA    </td><td>male  </td></tr>\n",
       "\t<tr><td>3     </td><td>10    </td><td>17.63 </td><td>64.7  </td><td>NA    </td><td>female</td></tr>\n",
       "\t<tr><td>4     </td><td> 1    </td><td>   NA </td><td>  NA  </td><td>NA    </td><td>male  </td></tr>\n",
       "\t<tr><td>5     </td><td>49    </td><td>29.10 </td><td>99.9  </td><td>NA    </td><td>male  </td></tr>\n",
       "\t<tr><td>6     </td><td>19    </td><td>22.56 </td><td>81.6  </td><td>NA    </td><td>female</td></tr>\n",
       "</tbody>\n",
       "</table>\n"
      ],
      "text/latex": [
       "\\begin{tabular}{r|llllll}\n",
       " index & age & body\\_mass\\_index & waist\\_circumference & sugarfree\\_diet & sex\\\\\n",
       "\\hline\n",
       "\t 1      &  2     & 14.90  & 45.7   & NA     & female\\\\\n",
       "\t 2      & 77     & 24.90  & 98.0   & NA     & male  \\\\\n",
       "\t 3      & 10     & 17.63  & 64.7   & NA     & female\\\\\n",
       "\t 4      &  1     &    NA  &   NA   & NA     & male  \\\\\n",
       "\t 5      & 49     & 29.10  & 99.9   & NA     & male  \\\\\n",
       "\t 6      & 19     & 22.56  & 81.6   & NA     & female\\\\\n",
       "\\end{tabular}\n"
      ],
      "text/markdown": [
       "\n",
       "index | age | body_mass_index | waist_circumference | sugarfree_diet | sex | \n",
       "|---|---|---|---|---|---|\n",
       "| 1      |  2     | 14.90  | 45.7   | NA     | female | \n",
       "| 2      | 77     | 24.90  | 98.0   | NA     | male   | \n",
       "| 3      | 10     | 17.63  | 64.7   | NA     | female | \n",
       "| 4      |  1     |    NA  |   NA   | NA     | male   | \n",
       "| 5      | 49     | 29.10  | 99.9   | NA     | male   | \n",
       "| 6      | 19     | 22.56  | 81.6   | NA     | female | \n",
       "\n",
       "\n"
      ],
      "text/plain": [
       "  index age body_mass_index waist_circumference sugarfree_diet sex   \n",
       "1 1      2  14.90           45.7                NA             female\n",
       "2 2     77  24.90           98.0                NA             male  \n",
       "3 3     10  17.63           64.7                NA             female\n",
       "4 4      1     NA             NA                NA             male  \n",
       "5 5     49  29.10           99.9                NA             male  \n",
       "6 6     19  22.56           81.6                NA             female"
      ]
     },
     "metadata": {},
     "output_type": "display_data"
    }
   ],
   "source": [
    "head(nhanes_extracted)"
   ]
  },
  {
   "cell_type": "markdown",
   "metadata": {},
   "source": [
    "## a) Description of variables"
   ]
  },
  {
   "cell_type": "markdown",
   "metadata": {},
   "source": [
    "The following meaning of the variables are provided according to the CDC NHANES website (https://www.cdc.gov/nchs/nhanes/index.htm):\n",
    "\n",
    "- `index` : index number of patients\n",
    "- `sex` : female or male\n",
    "- `age` : age of individuals in years\n",
    "- `body_mass_index` : Body mass index of individual in kg/m^2\n",
    "- `waist_circumference` : waist circumference of indviduals in cm\n",
    "- `sugarfree_diet` : yes (the individual has a sugar-free diet) / no (the individual does not have a sugar free diet)"
   ]
  },
  {
   "cell_type": "markdown",
   "metadata": {},
   "source": [
    "Below you can see a basic statistics summary of our dataset :"
   ]
  },
  {
   "cell_type": "code",
   "execution_count": 16,
   "metadata": {},
   "outputs": [
    {
     "name": "stdout",
     "output_type": "stream",
     "text": [
      "Description of nhanes_extracted[, -1] \n"
     ]
    },
    {
     "data": {
      "text/plain": [
       "\n",
       " Numeric \n",
       "                     mean    sd median   min    max valid.n\n",
       "age                 29.25 24.80   19.0  0.00  85.00   41474\n",
       "body_mass_index     24.94  7.19   24.2  7.99 130.21   35108\n",
       "waist_circumference 85.04 21.01   85.3 32.00 175.00   34409\n",
       "\n",
       " Factor \n",
       "              \n",
       "sugarfree_diet     <NA>       No    Yes\n",
       "       Count   21881.00 19482.00 111.00\n",
       "       Percent    52.76    46.97   0.27\n",
       "Mode NA \n",
       "         \n",
       "sex         female     male\n",
       "  Count   21210.00 20264.00\n",
       "  Percent    51.14    48.86\n",
       "Mode female "
      ]
     },
     "metadata": {},
     "output_type": "display_data"
    }
   ],
   "source": [
    "describe(nhanes_extracted[, -1], num.desc = c(\"mean\", \"sd\", \"median\", \"min\", \"max\", \"valid.n\"))"
   ]
  },
  {
   "cell_type": "markdown",
   "metadata": {},
   "source": [
    "## b) Gender distribution"
   ]
  },
  {
   "cell_type": "code",
   "execution_count": 17,
   "metadata": {},
   "outputs": [
    {
     "data": {
      "text/plain": [
       "\n",
       "female   male \n",
       " 21210  20264 "
      ]
     },
     "metadata": {},
     "output_type": "display_data"
    }
   ],
   "source": [
    "gender_distribution <- table(nhanes_extracted$sex)\n",
    "\n",
    "gender_distribution"
   ]
  },
  {
   "cell_type": "code",
   "execution_count": 18,
   "metadata": {},
   "outputs": [
    {
     "data": {
      "text/plain": [
       "\n",
       "female   male \n",
       "  51.1   48.9 "
      ]
     },
     "metadata": {},
     "output_type": "display_data"
    }
   ],
   "source": [
    "gender_proportion<- round(100*gender_distribution/sum(gender_distribution), 1)\n",
    "\n",
    "gender_proportion"
   ]
  },
  {
   "cell_type": "markdown",
   "metadata": {},
   "source": [
    "There are 21210 females (51.1%) and 20264 males (48.9%) in this sample."
   ]
  },
  {
   "cell_type": "code",
   "execution_count": 19,
   "metadata": {},
   "outputs": [
    {
     "data": {
      "image/png": "[encoded data removed]",
      "text/plain": [
       "Plot with title “Gender distribution”"
      ]
     },
     "metadata": {},
     "output_type": "display_data"
    }
   ],
   "source": [
    "gender_percent <- paste(gender_proportion,\"%\",sep=\"\")\n",
    "\n",
    "pie(gender_distribution, labels = gender_percent, main = \"Gender distribution\", col = c(\"pink\", \"blue\"))\n",
    "legend(\"topright\", c(\"female\", \"male\"), fill = c(\"pink\", \"blue\"))"
   ]
  },
  {
   "cell_type": "markdown",
   "metadata": {},
   "source": [
    "## c) Age according to gender distribution"
   ]
  },
  {
   "cell_type": "code",
   "execution_count": 20,
   "metadata": {},
   "outputs": [
    {
     "data": {
      "text/html": [
       "<table>\n",
       "<thead><tr><th scope=col>sex</th><th scope=col>first_quantile_age</th><th scope=col>median_age</th><th scope=col>third_quantile_age</th></tr></thead>\n",
       "<tbody>\n",
       "\t<tr><td>female</td><td>10    </td><td>20    </td><td>47.00 </td></tr>\n",
       "\t<tr><td>male  </td><td> 9    </td><td>19    </td><td>47.25 </td></tr>\n",
       "</tbody>\n",
       "</table>\n"
      ],
      "text/latex": [
       "\\begin{tabular}{r|llll}\n",
       " sex & first\\_quantile\\_age & median\\_age & third\\_quantile\\_age\\\\\n",
       "\\hline\n",
       "\t female & 10     & 20     & 47.00 \\\\\n",
       "\t male   &  9     & 19     & 47.25 \\\\\n",
       "\\end{tabular}\n"
      ],
      "text/markdown": [
       "\n",
       "sex | first_quantile_age | median_age | third_quantile_age | \n",
       "|---|---|\n",
       "| female | 10     | 20     | 47.00  | \n",
       "| male   |  9     | 19     | 47.25  | \n",
       "\n",
       "\n"
      ],
      "text/plain": [
       "  sex    first_quantile_age median_age third_quantile_age\n",
       "1 female 10                 20         47.00             \n",
       "2 male    9                 19         47.25             "
      ]
     },
     "metadata": {},
     "output_type": "display_data"
    },
    {
     "data": {
      "image/png": "[encoded data removed]",
      "text/plain": [
       "Plot with title “Boxplot of age distribution by gender”"
      ]
     },
     "metadata": {},
     "output_type": "display_data"
    }
   ],
   "source": [
    "nhanes_extracted %>% group_by(sex)%>% summarise(first_quantile_age = quantile(age, probs = 0.25, na.rm = TRUE), median_age = median(age, na.rm = TRUE), third_quantile_age = quantile(age, probs = 0.75, na.rm = TRUE))\n",
    "\n",
    "boxplot(age~sex, data = nhanes_extracted, main = \"Boxplot of age distribution by gender\", xlab = \"Gender\", ylab = \"Age in years\", col = c(\"pink\", \"blue\"))"
   ]
  },
  {
   "cell_type": "markdown",
   "metadata": {},
   "source": [
    "The output above shows similar distributions of age in males and females in this sample."
   ]
  },
  {
   "cell_type": "markdown",
   "metadata": {},
   "source": [
    "## d) Body mass index (BMI) according to gender"
   ]
  },
  {
   "cell_type": "code",
   "execution_count": 21,
   "metadata": {},
   "outputs": [
    {
     "data": {
      "text/html": [
       "<table>\n",
       "<thead><tr><th scope=col>sex</th><th scope=col>first_quantile_bmi</th><th scope=col>median_bmi</th><th scope=col>third_quantile_bmi</th></tr></thead>\n",
       "<tbody>\n",
       "\t<tr><td>female</td><td>19.64 </td><td>24.22 </td><td>29.73 </td></tr>\n",
       "\t<tr><td>male  </td><td>19.30 </td><td>24.17 </td><td>28.60 </td></tr>\n",
       "</tbody>\n",
       "</table>\n"
      ],
      "text/latex": [
       "\\begin{tabular}{r|llll}\n",
       " sex & first\\_quantile\\_bmi & median\\_bmi & third\\_quantile\\_bmi\\\\\n",
       "\\hline\n",
       "\t female & 19.64  & 24.22  & 29.73 \\\\\n",
       "\t male   & 19.30  & 24.17  & 28.60 \\\\\n",
       "\\end{tabular}\n"
      ],
      "text/markdown": [
       "\n",
       "sex | first_quantile_bmi | median_bmi | third_quantile_bmi | \n",
       "|---|---|\n",
       "| female | 19.64  | 24.22  | 29.73  | \n",
       "| male   | 19.30  | 24.17  | 28.60  | \n",
       "\n",
       "\n"
      ],
      "text/plain": [
       "  sex    first_quantile_bmi median_bmi third_quantile_bmi\n",
       "1 female 19.64              24.22      29.73             \n",
       "2 male   19.30              24.17      28.60             "
      ]
     },
     "metadata": {},
     "output_type": "display_data"
    },
    {
     "data": {
      "image/png": "[encoded data removed]",
      "text/plain": [
       "Plot with title “Boxplot of BMI distibution by gender”"
      ]
     },
     "metadata": {},
     "output_type": "display_data"
    }
   ],
   "source": [
    "nhanes_extracted %>% group_by(sex)%>% summarise(first_quantile_bmi = quantile(body_mass_index, probs = 0.25, na.rm = TRUE), median_bmi = median(body_mass_index, na.rm = TRUE), third_quantile_bmi = quantile(body_mass_index, probs = 0.75, na.rm = TRUE))\n",
    "\n",
    "boxplot(body_mass_index~sex, data = nhanes_extracted, main = \"Boxplot of BMI distibution by gender\", xlab = \"Gender\", ylab = \"BMI in kg/m^2\", col = c(\"pink\", \"blue\"))"
   ]
  },
  {
   "cell_type": "markdown",
   "metadata": {},
   "source": [
    "BMI distribution of females is slightly more widespread than males distribution."
   ]
  },
  {
   "cell_type": "markdown",
   "metadata": {},
   "source": [
    "# 6) Hypothesis testing "
   ]
  },
  {
   "cell_type": "markdown",
   "metadata": {},
   "source": [
    "We are here exploring if there is a relationship between having a sugarfree diet and the waist circumference in this NHANES sample. In this study, measurements are performed on individuals over 2 years old."
   ]
  },
  {
   "cell_type": "markdown",
   "metadata": {},
   "source": [
    "For better clarity, let's subset a new dataset comprising only those individuals."
   ]
  },
  {
   "cell_type": "code",
   "execution_count": 22,
   "metadata": {},
   "outputs": [],
   "source": [
    "nhanes_over_two <- nhanes_extracted  %>% filter(age >=2)"
   ]
  },
  {
   "cell_type": "code",
   "execution_count": 23,
   "metadata": {},
   "outputs": [
    {
     "data": {
      "text/html": [
       "<ol class=list-inline>\n",
       "\t<li>38124</li>\n",
       "\t<li>6</li>\n",
       "</ol>\n"
      ],
      "text/latex": [
       "\\begin{enumerate*}\n",
       "\\item 38124\n",
       "\\item 6\n",
       "\\end{enumerate*}\n"
      ],
      "text/markdown": [
       "1. 38124\n",
       "2. 6\n",
       "\n",
       "\n"
      ],
      "text/plain": [
       "[1] 38124     6"
      ]
     },
     "metadata": {},
     "output_type": "display_data"
    }
   ],
   "source": [
    "#quick check of the number of observations and variables\n",
    "dim(nhanes_over_two)"
   ]
  },
  {
   "cell_type": "markdown",
   "metadata": {},
   "source": [
    "We have now generated our new dataset with 38 124 individuals (over 2 years old) and the same 6 variables from the previous dataset.\n",
    "You can see below a basic statistics summary :"
   ]
  },
  {
   "cell_type": "code",
   "execution_count": 24,
   "metadata": {},
   "outputs": [
    {
     "name": "stdout",
     "output_type": "stream",
     "text": [
      "Description of nhanes_over_two[, -1] \n"
     ]
    },
    {
     "data": {
      "text/plain": [
       "\n",
       " Numeric \n",
       "                     mean    sd median   min    max valid.n\n",
       "age                 31.79 24.28   23.0  2.00  85.00   38124\n",
       "body_mass_index     24.94  7.19   24.2  7.99 130.21   35108\n",
       "waist_circumference 85.05 21.01   85.3 32.00 175.00   34408\n",
       "\n",
       " Factor \n",
       "              \n",
       "sugarfree_diet     <NA>       No    Yes\n",
       "       Count   20183.00 17831.00 110.00\n",
       "       Percent    52.94    46.77   0.29\n",
       "Mode NA \n",
       "         \n",
       "sex         female     male\n",
       "  Count   19636.00 18488.00\n",
       "  Percent    51.51    48.49\n",
       "Mode female "
      ]
     },
     "metadata": {},
     "output_type": "display_data"
    }
   ],
   "source": [
    "describe(nhanes_over_two[, -1], num.desc = c(\"mean\", \"sd\", \"median\", \"min\", \"max\", \"valid.n\"))"
   ]
  },
  {
   "cell_type": "markdown",
   "metadata": {},
   "source": [
    "We can see that there are missing values in every variables except from `age` and `sex`.\n",
    "\n",
    "**Missing values in `sugarfree_diet` and `waist_circumference` represent more than 50% and about 10% of the observations respectively.**"
   ]
  },
  {
   "cell_type": "markdown",
   "metadata": {},
   "source": [
    "### a) What are the means of waist circumference in both groups ?"
   ]
  },
  {
   "cell_type": "code",
   "execution_count": 25,
   "metadata": {},
   "outputs": [
    {
     "data": {
      "text/html": [
       "<table>\n",
       "<thead><tr><th scope=col>sugarfree_diet</th><th scope=col>count</th><th scope=col>mean</th></tr></thead>\n",
       "<tbody>\n",
       "\t<tr><td>No       </td><td>17831    </td><td> 85.42428</td></tr>\n",
       "\t<tr><td>Yes      </td><td>  110    </td><td>100.86698</td></tr>\n",
       "\t<tr><td>NA       </td><td>20183    </td><td> 84.57783</td></tr>\n",
       "</tbody>\n",
       "</table>\n"
      ],
      "text/latex": [
       "\\begin{tabular}{r|lll}\n",
       " sugarfree\\_diet & count & mean\\\\\n",
       "\\hline\n",
       "\t No        & 17831     &  85.42428\\\\\n",
       "\t Yes       &   110     & 100.86698\\\\\n",
       "\t NA        & 20183     &  84.57783\\\\\n",
       "\\end{tabular}\n"
      ],
      "text/markdown": [
       "\n",
       "sugarfree_diet | count | mean | \n",
       "|---|---|---|\n",
       "| No        | 17831     |  85.42428 | \n",
       "| Yes       |   110     | 100.86698 | \n",
       "| NA        | 20183     |  84.57783 | \n",
       "\n",
       "\n"
      ],
      "text/plain": [
       "  sugarfree_diet count mean     \n",
       "1 No             17831  85.42428\n",
       "2 Yes              110 100.86698\n",
       "3 NA             20183  84.57783"
      ]
     },
     "metadata": {},
     "output_type": "display_data"
    }
   ],
   "source": [
    "nhanes_over_two %>% group_by(sugarfree_diet)%>% summarise(count = n(), mean = mean(waist_circumference, na.rm = TRUE))"
   ]
  },
  {
   "cell_type": "markdown",
   "metadata": {},
   "source": [
    "**3716** observations with missing values in `waist_circumference` were exluded (`na.rm = TRUE`) in order to compute means (_run the code below to get this number_)."
   ]
  },
  {
   "cell_type": "code",
   "execution_count": 26,
   "metadata": {},
   "outputs": [
    {
     "data": {
      "text/html": [
       "3716"
      ],
      "text/latex": [
       "3716"
      ],
      "text/markdown": [
       "3716"
      ],
      "text/plain": [
       "[1] 3716"
      ]
     },
     "metadata": {},
     "output_type": "display_data"
    }
   ],
   "source": [
    "nhanes_over_two %>% filter(is.na(nhanes_over_two$waist_circumference))%>% nrow()"
   ]
  },
  {
   "cell_type": "markdown",
   "metadata": {},
   "source": [
    "For the purpose of this work, we will assume that all the missing data are **MCAR** (missing completely at random), therefore we will not impute any missing data."
   ]
  },
  {
   "cell_type": "markdown",
   "metadata": {},
   "source": [
    "### b) Test the hypothesis ( wilcoxon test )"
   ]
  },
  {
   "cell_type": "markdown",
   "metadata": {},
   "source": [
    "Let's test the association between having a sugar-free diet and the waist circumference with the Wilcoxon test :"
   ]
  },
  {
   "cell_type": "code",
   "execution_count": 27,
   "metadata": {},
   "outputs": [
    {
     "data": {
      "text/plain": [
       "\n",
       "\tWilcoxon rank sum test with continuity correction\n",
       "\n",
       "data:  waist_circumference by sugarfree_diet\n",
       "W = 532500, p-value = 4.247e-13\n",
       "alternative hypothesis: true location shift is not equal to 0\n",
       "95 percent confidence interval:\n",
       " -19.60005 -11.40002\n",
       "sample estimates:\n",
       "difference in location \n",
       "             -15.50001 \n"
      ]
     },
     "metadata": {},
     "output_type": "display_data"
    }
   ],
   "source": [
    "wilcox.test(waist_circumference~sugarfree_diet, conf.int=TRUE, data = nhanes_over_two)"
   ]
  },
  {
   "cell_type": "markdown",
   "metadata": {},
   "source": [
    "The output above shows a statistically significant association between having a sugarfree diet and the waist circumference in our sample (IC95 = [11,4; 19.6]; p< 0.001).\n",
    "We can not draw any causality statement from this analysis since the design of the study (observational study) does not allow it."
   ]
  },
  {
   "cell_type": "markdown",
   "metadata": {},
   "source": [
    "**This notebook is only intended as an illustration of a basic statistical analysis in our attempt to create a reproducible and F.A.I.R (findable, accessible, interoperable and reusable) statistical analysis.**"
   ]
  }
 ],
 "metadata": {
  "kernelspec": {
   "display_name": "R",
   "language": "R",
   "name": "ir"
  },
  "language_info": {
   "codemirror_mode": "r",
   "file_extension": ".r",
   "mimetype": "text/x-r-source",
   "name": "R",
   "pygments_lexer": "r",
   "version": "3.4.1"
  }
 },
 "nbformat": 4,
 "nbformat_minor": 1
}
